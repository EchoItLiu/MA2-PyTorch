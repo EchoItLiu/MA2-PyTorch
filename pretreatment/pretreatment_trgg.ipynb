{
 "cells": [
  {
   "cell_type": "code",
   "execution_count": 1,
   "id": "5ea6b354-57f6-44f2-8183-b4e360afa176",
   "metadata": {},
   "outputs": [],
   "source": [
    "import pandas as pd\n",
    "import numpy as np"
   ]
  },
  {
   "cell_type": "code",
   "execution_count": 3,
   "id": "c1ce29e0-1323-46f8-bc53-04f6ccc3b503",
   "metadata": {},
   "outputs": [
    {
     "name": "stdout",
     "output_type": "stream",
     "text": [
      "8819\n",
      "101\n",
      "(8819, 1, 101)\n",
      "<class 'numpy.ndarray'>\n",
      "--------\n",
      "[  1.   1.   1. ... 350. 350. 350.]\n",
      "8819\n"
     ]
    }
   ],
   "source": [
    "GRF_COP_AP_PRO_left = pd.read_csv(r'GRF_COP_AP_PRO_left.csv')\n",
    "# GRF_COP_AP_PRO_left.head()\n",
    "\n",
    "feature_test_1 = GRF_COP_AP_PRO_left.values[:,4:]\n",
    "\n",
    "fullbatch = feature_test_1.shape[0]\n",
    "nt = feature_test_1.shape[1]\n",
    "\n",
    "\n",
    "\n",
    "print (fullbatch)\n",
    "print (nt)\n",
    "\n",
    "# 1×n\n",
    "feature_test_1 = feature_test_1.reshape(fullbatch, 1, nt)\n",
    "\n",
    "print (feature_test_1.shape)\n",
    "print (type(feature_test_1))\n",
    "\n",
    "# print (feature_test_1)\n",
    "\n",
    "# print (feature_test.shape)\n",
    "\n",
    "GRF_Annotation = pd.read_csv(r'GRF_metadata.csv')\n",
    "\n",
    "# GRF_Annotation.head()\n",
    "\n",
    "# 检索\n",
    "GRF_SUBJECT_ID = GRF_Annotation.values[:,1]\n",
    "GRF_CLASS_LABEL = GRF_Annotation.values[:,3]\n",
    "#\n",
    "# 形成标签检索字典\n",
    "dic_re_label = {}\n",
    "#\n",
    "for i in range(len(GRF_SUBJECT_ID)):\n",
    "    dic_re_label[GRF_SUBJECT_ID[i]] = GRF_CLASS_LABEL[i]\n",
    "\n",
    "# print (dic_re_label)\n",
    "# print (len(dic_re_label))\n",
    "\n",
    "# 做成二分类检索字典\n",
    "dic_re_label_bi = {}\n",
    "for key, value in dic_re_label.items():\n",
    "    dic_re_label_bi[key] = 1\n",
    "\n",
    "print ('--------')\n",
    "        \n",
    "# print (dic_re_label_bi)\n",
    "# print (len(dic_re_label_bi))\n",
    "\n",
    "GRF_SUBJECT_ID = GRF_COP_AP_PRO_left.values[:,1]\n",
    "\n",
    "print (GRF_SUBJECT_ID)\n",
    "#\n",
    "# label travel\n",
    "labels = []\n",
    "#\n",
    "#\n",
    "for i in range(len(GRF_SUBJECT_ID)):\n",
    "    labels.append(dic_re_label_bi[GRF_SUBJECT_ID[i]])\n",
    "\n",
    "\n",
    "# print (labels)\n",
    "print (len(labels))\n",
    "    "
   ]
  },
  {
   "cell_type": "markdown",
   "id": "fefa7f67-151a-4cbe-9364-8f2552afcdfd",
   "metadata": {},
   "source": [
    "#### 特征文件处理之 COP"
   ]
  },
  {
   "cell_type": "code",
   "execution_count": 4,
   "id": "deaf3a1d-4fe6-4f31-805c-01f331b138a1",
   "metadata": {},
   "outputs": [
    {
     "name": "stdout",
     "output_type": "stream",
     "text": [
      "(8819, 4, 101)\n"
     ]
    }
   ],
   "source": [
    "#1,2\n",
    "GRF_COP_AP_PRO_left = pd.read_csv(r'GRF_COP_AP_PRO_left.csv')\n",
    "features_1 = GRF_COP_AP_PRO_left.values[:,4:].reshape(fullbatch, 1, nt)\n",
    "\n",
    "GRF_COP_AP_PRO_right = pd.read_csv(r'GRF_COP_AP_PRO_right.csv')\n",
    "features_2 = GRF_COP_AP_PRO_right.values[:,4:].reshape(fullbatch, 1, nt)\n",
    "\n",
    "# 3,4\n",
    "GRF_COP_ML_PRO_left = pd.read_csv(r'GRF_COP_ML_PRO_left.csv')\n",
    "features_3 = GRF_COP_ML_PRO_left.values[:,4:].reshape(fullbatch, 1, nt)\n",
    "\n",
    "GRF_COP_ML_PRO_right = pd.read_csv(r'GRF_COP_ML_PRO_right.csv')\n",
    "features_4 = GRF_COP_ML_PRO_right.values[:,4:].reshape(fullbatch, 1, nt)\n",
    "\n",
    "# concat\n",
    "\n",
    "GRF_COP_features = np.concatenate((features_1, features_2, features_3, features_4),axis = 1)\n",
    "\n",
    "print (GRF_COP_features.shape)\n",
    "\n",
    "\n"
   ]
  },
  {
   "cell_type": "markdown",
   "id": "4c179bcf-a332-4dab-9621-83888cf00f59",
   "metadata": {},
   "source": [
    "#### 标签提取和二值化"
   ]
  },
  {
   "cell_type": "code",
   "execution_count": 6,
   "id": "5539f1ac-c245-4a2d-ae9a-9d1afc62f57b",
   "metadata": {},
   "outputs": [
    {
     "name": "stdout",
     "output_type": "stream",
     "text": [
      "--------\n",
      "8819\n"
     ]
    }
   ],
   "source": [
    "# add label dic\n",
    "GRF_Annotation = pd.read_csv(r'GRF_metadata.csv')\n",
    "GRF_SUBJECT_ID = GRF_Annotation.values[:,1]\n",
    "GRF_CLASS_LABEL =  GRF_Annotation.values[:,3]\n",
    "dic_re_label = {}\n",
    "\n",
    "for i in range(len(GRF_SUBJECT_ID)):\n",
    "    dic_re_label[GRF_SUBJECT_ID[i]] = GRF_CLASS_LABEL[i]\n",
    "\n",
    "\n",
    "dic_re_label_bi = {}\n",
    "for key, value in dic_re_label.items():\n",
    "    dic_re_label_bi[key] = 1\n",
    "\n",
    "print ('--------')\n",
    "\n",
    "# retrieve\n",
    "GRF_COP_AP_PRO_left = pd.read_csv(r'GRF_COP_AP_PRO_left.csv')\n",
    "# \n",
    "GRF_SUBJECT_ID = GRF_COP_AP_PRO_left.values[:,1]\n",
    "\n",
    "# label travel\n",
    "labels = []\n",
    "\n",
    "for i in range(len(GRF_SUBJECT_ID)):\n",
    "    labels.append(dic_re_label_bi[GRF_SUBJECT_ID[i]])\n",
    "    \n",
    "# print (labels)\n",
    "print (len(labels))\n",
    "\n",
    "\n",
    "\n"
   ]
  },
  {
   "cell_type": "markdown",
   "id": "0eaa66d4-768d-4525-b834-a7d5a42e1dac",
   "metadata": {},
   "source": [
    "#### 特征文件提取之F"
   ]
  },
  {
   "cell_type": "code",
   "execution_count": 7,
   "id": "1d834e51-8fd2-4caa-bc08-c7f67d7acbed",
   "metadata": {},
   "outputs": [
    {
     "name": "stdout",
     "output_type": "stream",
     "text": [
      "(8819, 6, 101)\n"
     ]
    }
   ],
   "source": [
    "#1,2\n",
    "GRF_F_V_PRO_left = pd.read_csv(r'GRF_F_V_PRO_left.csv')\n",
    "features_1_F = GRF_F_V_PRO_left.values[:,4:].reshape(fullbatch, 1, nt)\n",
    "\n",
    "GRF_F_V_PRO_right = pd.read_csv(r'GRF_F_V_PRO_right.csv')\n",
    "features_2_F = GRF_F_V_PRO_right.values[:,4:].reshape(fullbatch, 1, nt)\n",
    "\n",
    "#3,4\n",
    "GRF_F_ML_PRO_left = pd.read_csv(r'GRF_F_ML_PRO_left.csv')\n",
    "features_3_F = GRF_F_ML_PRO_left.values[:,4:].reshape(fullbatch, 1, nt)\n",
    "\n",
    "GRF_F_ML_PRO_right = pd.read_csv(r'GRF_F_ML_PRO_right.csv')\n",
    "features_4_F = GRF_F_ML_PRO_right.values[:,4:].reshape(fullbatch, 1, nt)\n",
    "\n",
    "#5,6\n",
    "GRF_F_AP_PRO_left = pd.read_csv(r'GRF_F_AP_PRO_left.csv')\n",
    "features_5_F = GRF_F_AP_PRO_left.values[:,4:].reshape(fullbatch, 1, nt)\n",
    "\n",
    "GRF_F_AP_PRO_right = pd.read_csv(r'GRF_F_AP_PRO_right.csv')\n",
    "features_6_F = GRF_F_AP_PRO_right.values[:,4:].reshape(fullbatch, 1, nt)\n",
    "\n",
    "\n",
    "# concat\n",
    "\n",
    "GRF_F_features = np.concatenate((features_1_F, features_2_F, features_3_F, features_4_F, features_5_F, features_6_F),axis = 1)\n",
    "\n",
    "print (GRF_F_features.shape)\n"
   ]
  },
  {
   "cell_type": "markdown",
   "id": "1862b2f2-4b48-4272-9144-f5d09b3a13a8",
   "metadata": {},
   "source": [
    "#### 特征合并 "
   ]
  },
  {
   "cell_type": "code",
   "execution_count": 9,
   "id": "5afdb0d8-8638-44a9-bdb6-3028de694345",
   "metadata": {},
   "outputs": [
    {
     "name": "stdout",
     "output_type": "stream",
     "text": [
      "(8819, 10, 101)\n",
      "(8819,)\n"
     ]
    }
   ],
   "source": [
    "# concat the 1,2,3,4,5,6,7,8,9,10\n",
    "GaitGuten_features = np.concatenate((GRF_COP_features, GRF_F_features), axis = 1)\n",
    "\n",
    "print (GaitGuten_features.shape)\n",
    "\n",
    "GaitGuten_labels = np.array(labels)\n",
    "\n",
    "print (GaitGuten_labels.shape)"
   ]
  },
  {
   "cell_type": "markdown",
   "id": "e8726529-2402-498b-bd66-d6f872200987",
   "metadata": {},
   "source": [
    "#### 特征和标签各封装为Pkl并保存"
   ]
  },
  {
   "cell_type": "code",
   "execution_count": 11,
   "id": "3bbee0d8-8963-4425-9e74-412027f6252c",
   "metadata": {},
   "outputs": [],
   "source": [
    "import pickle\n",
    " \n",
    "with open('Gutenf.pkl', 'wb') as f:\n",
    "    pickle.dump(GaitGuten_features, f)\n",
    "\n",
    "with open('Gutenl.pkl', 'wb') as f:\n",
    "    pickle.dump(GaitGuten_labels, f)\n",
    " \n"
   ]
  },
  {
   "cell_type": "markdown",
   "id": "f0e964d8-b1ba-4a23-859f-1225b738bb1a",
   "metadata": {},
   "source": [
    "#### 合并Gutenberg和GaitRec两个数据集"
   ]
  },
  {
   "cell_type": "code",
   "execution_count": 14,
   "id": "bcd28206-2e9a-4a82-9fa9-e5bc05fb4983",
   "metadata": {},
   "outputs": [
    {
     "name": "stdout",
     "output_type": "stream",
     "text": [
      "(84551, 10, 101)\n",
      "(84551,)\n"
     ]
    }
   ],
   "source": [
    "# GaitRec\n",
    "\n",
    "# features\n",
    "fr = open('D:\\GT\\GaitRec\\GaitRecf.pkl', 'rb')\n",
    "GaitRec_features = pickle.load(fr)\n",
    "fr.close()\n",
    "\n",
    "# labels\n",
    "lr = open('D:\\GT\\GaitRec\\GaitRecl.pkl', 'rb')\n",
    "GaitRec_labels = pickle.load(lr)\n",
    "lr.close()\n",
    "\n",
    "\n",
    "# Gutenburg\n",
    "\n",
    "# features\n",
    "fg = open('Gutenf.pkl', 'rb')\n",
    "GaitGuten_features = pickle.load(fg)\n",
    "fg.close()\n",
    "\n",
    "# labels\n",
    "lg = open('Gutenl.pkl', 'rb')\n",
    "GaitGuten_labels = pickle.load(lg)\n",
    "lr.close()\n",
    "\n",
    "\n",
    "# merge\n",
    "\n",
    "# Features\n",
    "GRF_Features = np.concatenate((GaitRec_features, GaitGuten_features),axis = 0)\n",
    "\n",
    "print (GRF_Features.shape)\n",
    "\n",
    "# Labels\n",
    "GRF_Labels = np.concatenate((GaitRec_labels, GaitGuten_labels),axis = 0)\n",
    "\n",
    "\n",
    "print (GRF_Labels.shape)\n",
    "\n",
    "# dump\n",
    "with open('GRFf.pkl', 'wb') as f:\n",
    "    pickle.dump(GRF_Features, f)\n",
    "\n",
    "with open('GRFl.pkl', 'wb') as f:\n",
    "    pickle.dump(GRF_Labels, f)\n",
    "\n",
    "\n"
   ]
  },
  {
   "cell_type": "code",
   "execution_count": 16,
   "id": "22eaf593-4821-41cb-8dd0-9b348964ce7b",
   "metadata": {},
   "outputs": [
    {
     "name": "stdout",
     "output_type": "stream",
     "text": [
      "(84551, 10, 101)\n",
      "<class 'numpy.ndarray'>\n",
      "[[[ 0.00000000e+00  0.00000000e+00  1.67894600e-03 ...  2.76632873e-01\n",
      "    2.76632873e-01  2.76632873e-01]\n",
      "  [ 0.00000000e+00  0.00000000e+00  3.54768200e-03 ...  2.87189870e-01\n",
      "    2.87189870e-01  2.87189870e-01]\n",
      "  [-2.16052857e-02 -2.16052857e-02 -2.20581571e-02 ...  6.42485324e-03\n",
      "    6.42485324e-03  6.42485324e-03]\n",
      "  ...\n",
      "  [-2.14868788e-03 -4.59715750e-03 -7.01685997e-03 ...  1.49951881e-02\n",
      "    1.20014666e-02  9.34142353e-03]\n",
      "  [-6.69993543e-04  4.93071701e-03  1.07353434e-02 ...  7.10037088e-03\n",
      "   -4.25884966e-04 -5.15179135e-03]\n",
      "  [ 1.07274136e-02  2.08462367e-02  2.40177024e-02 ... -7.89879164e-04\n",
      "   -4.61720001e-03 -7.15591533e-03]]\n",
      "\n",
      " [[ 0.00000000e+00  0.00000000e+00  1.76173800e-03 ...  2.79959683e-01\n",
      "    2.79959683e-01  2.79959683e-01]\n",
      "  [ 0.00000000e+00  0.00000000e+00  6.16694000e-04 ...  2.84269729e-01\n",
      "    2.84269729e-01  2.84269729e-01]\n",
      "  [-2.49383249e-02 -2.49383249e-02 -2.43220737e-02 ...  8.74873041e-03\n",
      "    8.74873041e-03  8.74873041e-03]\n",
      "  ...\n",
      "  [-4.09533736e-03 -7.96031504e-03 -1.08878755e-02 ...  2.74468889e-04\n",
      "    6.72030210e-04  8.39904360e-04]\n",
      "  [ 8.00126669e-03  1.91208992e-02  2.67925782e-02 ...  8.01625546e-03\n",
      "    4.18815517e-04 -4.92488830e-03]\n",
      "  [ 1.11451106e-02  2.32752799e-02  2.87982502e-02 ...  1.91302696e-03\n",
      "   -2.82531674e-03 -6.17397535e-03]]\n",
      "\n",
      " [[ 0.00000000e+00  0.00000000e+00 -7.08728000e-04 ...  2.61441112e-01\n",
      "    2.61441112e-01  2.61441112e-01]\n",
      "  [ 0.00000000e+00  0.00000000e+00  1.23791200e-03 ...  2.72263999e-01\n",
      "    2.72263999e-01  2.72263999e-01]\n",
      "  [-3.22648495e-02 -3.22648495e-02 -2.91207169e-02 ...  7.58470736e-03\n",
      "    7.58470736e-03  7.58470736e-03]\n",
      "  ...\n",
      "  [-2.11758208e-03 -5.81778270e-03 -1.02508964e-02 ...  1.31029205e-02\n",
      "    1.17757211e-02  1.04617669e-02]\n",
      "  [ 4.01033154e-03  1.05277167e-02  1.47194956e-02 ...  8.43894629e-03\n",
      "    1.83500448e-04 -5.01415925e-03]\n",
      "  [ 8.26711558e-03  1.90211961e-02  2.50324466e-02 ...  4.76657857e-04\n",
      "   -4.10240746e-03 -7.19668907e-03]]\n",
      "\n",
      " ...\n",
      "\n",
      " [[ 0.00000000e+00  6.96814000e-04  6.18656700e-03 ...  2.41830245e-01\n",
      "    2.41830245e-01  2.41830245e-01]\n",
      "  [ 0.00000000e+00  8.34510000e-04  7.53726500e-03 ...  2.38430732e-01\n",
      "    2.38430732e-01  2.38430732e-01]\n",
      "  [-1.32790176e-02 -1.35383716e-02 -1.50835071e-02 ... -2.57981788e-03\n",
      "   -2.57981788e-03 -2.57981788e-03]\n",
      "  ...\n",
      "  [-1.57385690e-03 -7.82069494e-03 -1.80998669e-02 ... -9.73657260e-03\n",
      "   -5.04712171e-03 -1.08777215e-03]\n",
      "  [ 1.08285180e-02  2.14816930e-02  2.74373290e-02 ...  4.49696890e-02\n",
      "    2.90533090e-02  1.65394710e-02]\n",
      "  [ 8.74332377e-03  1.85179824e-02  2.57254039e-02 ...  3.70426459e-02\n",
      "    2.29449154e-02  1.21894155e-02]]\n",
      "\n",
      " [[ 0.00000000e+00  7.56567000e-04  6.25523200e-03 ...  2.47033940e-01\n",
      "    2.47033940e-01  2.47033940e-01]\n",
      "  [ 0.00000000e+00  5.35126000e-04  6.18970600e-03 ...  2.37433546e-01\n",
      "    2.37433546e-01  2.37433546e-01]\n",
      "  [-1.45295543e-02 -1.50550538e-02 -1.80735182e-02 ...  1.00451712e-03\n",
      "    1.00451712e-03  1.00451712e-03]\n",
      "  ...\n",
      "  [-1.75842645e-03 -8.41423094e-03 -1.92087761e-02 ... -1.51359586e-02\n",
      "   -7.82146014e-03 -1.86986922e-03]\n",
      "  [ 1.19528090e-02  2.29655680e-02  2.85880390e-02 ...  3.77729850e-02\n",
      "    2.47739850e-02  1.43492370e-02]\n",
      "  [ 1.02784367e-02  2.27509231e-02  3.29222748e-02 ...  3.51414749e-02\n",
      "    2.09758883e-02  1.10342492e-02]]\n",
      "\n",
      " [[ 0.00000000e+00  9.04743000e-04  7.34847700e-03 ...  2.46463826e-01\n",
      "    2.46463826e-01  2.46463826e-01]\n",
      "  [ 0.00000000e+00  6.15195000e-04  6.07510800e-03 ...  2.38095804e-01\n",
      "    2.38095804e-01  2.38095804e-01]\n",
      "  [-1.89316224e-02 -1.92089947e-02 -2.10529974e-02 ...  7.58542833e-03\n",
      "    7.58542833e-03  7.58542833e-03]\n",
      "  ...\n",
      "  [-1.44369344e-03 -6.31607834e-03 -1.40261945e-02 ... -1.10564059e-02\n",
      "   -4.50702099e-03  3.39801385e-04]\n",
      "  [ 1.21354460e-02  2.30563650e-02  2.82366170e-02 ...  4.05434620e-02\n",
      "    2.64304320e-02  1.51668780e-02]\n",
      "  [ 1.05470408e-02  2.21559589e-02  3.05455659e-02 ...  3.98105140e-02\n",
      "    2.55510998e-02  1.45768588e-02]]]\n",
      "(84551,)\n",
      "<class 'numpy.ndarray'>\n",
      "[0 0 0 ... 1 1 1]\n"
     ]
    }
   ],
   "source": [
    "# fullbatch × featureSize × Time\n",
    "import pickle\n",
    " \n",
    "f = open('GRFf.pkl', 'rb')\n",
    "obj = pickle.load(f)\n",
    "f.close()\n",
    "\n",
    "print (obj.shape)\n",
    "print (type(obj))\n",
    "print (obj)\n",
    "\n",
    "\n",
    "fl = open('GRFl.pkl', 'rb')\n",
    "objl = pickle.load(fl)\n",
    "f.close()\n",
    "\n",
    "print (objl.shape)\n",
    "print (type(objl))\n",
    "print (objl)"
   ]
  },
  {
   "cell_type": "code",
   "execution_count": null,
   "id": "9e4927cf-e74d-4a2e-aeb8-53fe23a9c037",
   "metadata": {},
   "outputs": [],
   "source": []
  }
 ],
 "metadata": {
  "kernelspec": {
   "display_name": "Python 3 (ipykernel)",
   "language": "python",
   "name": "python3"
  },
  "language_info": {
   "codemirror_mode": {
    "name": "ipython",
    "version": 3
   },
   "file_extension": ".py",
   "mimetype": "text/x-python",
   "name": "python",
   "nbconvert_exporter": "python",
   "pygments_lexer": "ipython3",
   "version": "3.9.12"
  }
 },
 "nbformat": 4,
 "nbformat_minor": 5
}
