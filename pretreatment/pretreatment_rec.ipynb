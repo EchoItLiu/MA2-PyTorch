{
 "cells": [
  {
   "cell_type": "code",
   "execution_count": 1,
   "id": "5ea6b354-57f6-44f2-8183-b4e360afa176",
   "metadata": {},
   "outputs": [],
   "source": [
    "import pandas as pd\n",
    "import numpy as np"
   ]
  },
  {
   "cell_type": "code",
   "execution_count": 43,
   "id": "c1ce29e0-1323-46f8-bc53-04f6ccc3b503",
   "metadata": {},
   "outputs": [
    {
     "name": "stdout",
     "output_type": "stream",
     "text": [
      "--------\n",
      "[510. 510. 510. ...  93.  93.  93.]\n",
      "75732\n"
     ]
    }
   ],
   "source": [
    "GRF_COP_AP_PRO_left = pd.read_csv(r'GRF_COP_AP_PRO_left.csv')\n",
    "# GRF_COP_AP_PRO_left.head()\n",
    "\n",
    "feature_test_1 = GRF_COP_AP_PRO_left.values[:,3:]\n",
    "\n",
    "fullbatch = feature_test_1.shape[0]\n",
    "nt = feature_test_1.shape[1]\n",
    "\n",
    "\n",
    "\n",
    "# print (fullbatch)\n",
    "# print (nt)\n",
    "\n",
    "# 1×n\n",
    "feature_test_1 = feature_test_1.reshape(fullbatch, 1, nt)\n",
    "\n",
    "# print (feature_test_1.shape)\n",
    "# print (type(feature_test_1))\n",
    "\n",
    "# print (feature_test_1)\n",
    "\n",
    "# print (feature_test.shape)\n",
    "\n",
    "GRF_Annotation = pd.read_csv(r'GRF_metadata.csv')\n",
    "\n",
    "# GRF_Annotation.head()\n",
    "\n",
    "# 检索\n",
    "GRF_SUBJECT_ID = GRF_Annotation.values[:,0]\n",
    "GRF_CLASS_LABEL = GRF_Annotation.values[:,2]\n",
    "\n",
    "# 形成标签检索字典\n",
    "dic_re_label = {}\n",
    "\n",
    "for i in range(len(GRF_SUBJECT_ID)):\n",
    "    dic_re_label[GRF_SUBJECT_ID[i]] = GRF_CLASS_LABEL[i]\n",
    "\n",
    "# print (dic_re_label)\n",
    "# print (len(dic_re_label))\n",
    "\n",
    "# 做成二分类检索字典\n",
    "dic_re_label_bi = {}\n",
    "for key, value in dic_re_label.items():\n",
    "    if value=='H' or value=='K' or value=='A' or value=='C':\n",
    "        dic_re_label_bi[key] = 0\n",
    "\n",
    "    else:\n",
    "        dic_re_label_bi[key] = 1\n",
    "\n",
    "print ('--------')\n",
    "        \n",
    "# print (dic_re_label_bi)\n",
    "# print (len(dic_re_label_bi))\n",
    "\n",
    "GRF_SUBJECT_ID = GRF_COP_AP_PRO_left.values[:,0]\n",
    "\n",
    "print (GRF_SUBJECT_ID)\n",
    "\n",
    "# label travel\n",
    "labels = []\n",
    "\n",
    "for i in range(len(GRF_SUBJECT_ID)):\n",
    "    labels.append(dic_re_label_bi[GRF_SUBJECT_ID[i]])\n",
    "\n",
    "\n",
    "# print (labels)\n",
    "print (len(labels))\n",
    "    "
   ]
  },
  {
   "cell_type": "markdown",
   "id": "fefa7f67-151a-4cbe-9364-8f2552afcdfd",
   "metadata": {},
   "source": [
    "#### 特征文件处理之 COP"
   ]
  },
  {
   "cell_type": "code",
   "execution_count": 17,
   "id": "deaf3a1d-4fe6-4f31-805c-01f331b138a1",
   "metadata": {},
   "outputs": [
    {
     "name": "stdout",
     "output_type": "stream",
     "text": [
      "(75732, 4, 101)\n"
     ]
    }
   ],
   "source": [
    "#1,2\n",
    "GRF_COP_AP_PRO_left = pd.read_csv(r'GRF_COP_AP_PRO_left.csv')\n",
    "features_1 = GRF_COP_AP_PRO_left.values[:,3:].reshape(fullbatch, 1, nt)\n",
    "\n",
    "GRF_COP_AP_PRO_right = pd.read_csv(r'GRF_COP_AP_PRO_right.csv')\n",
    "features_2 = GRF_COP_AP_PRO_right.values[:,3:].reshape(fullbatch, 1, nt)\n",
    "\n",
    "# 3,4\n",
    "GRF_COP_ML_PRO_left = pd.read_csv(r'GRF_COP_ML_PRO_left.csv')\n",
    "features_3 = GRF_COP_ML_PRO_left.values[:,3:].reshape(fullbatch, 1, nt)\n",
    "\n",
    "GRF_COP_ML_PRO_right = pd.read_csv(r'GRF_COP_ML_PRO_right.csv')\n",
    "features_4 = GRF_COP_ML_PRO_right.values[:,3:].reshape(fullbatch, 1, nt)\n",
    "\n",
    "# concat\n",
    "\n",
    "GRF_COP_features = np.concatenate((features_1, features_2, features_3, features_4),axis = 1)\n",
    "\n",
    "print (GRF_COP_features.shape)\n",
    "\n",
    "\n"
   ]
  },
  {
   "cell_type": "markdown",
   "id": "4c179bcf-a332-4dab-9621-83888cf00f59",
   "metadata": {},
   "source": [
    "#### 标签提取和二值化"
   ]
  },
  {
   "cell_type": "code",
   "execution_count": 35,
   "id": "5539f1ac-c245-4a2d-ae9a-9d1afc62f57b",
   "metadata": {},
   "outputs": [
    {
     "name": "stdout",
     "output_type": "stream",
     "text": [
      "75732\n"
     ]
    }
   ],
   "source": [
    "# add label dic\n",
    "GRF_Annotation = pd.read_csv(r'GRF_metadata.csv')\n",
    "GRF_SUBJECT_ID = GRF_Annotation.values[:,0]\n",
    "GRF_CLASS_LABEL = GRF_Annotation.values[:,2]\n",
    "dic_re_label = {}\n",
    "#\n",
    "for i in range(len(GRF_SUBJECT_ID)):\n",
    "    dic_re_label[GRF_SUBJECT_ID[i]] = GRF_CLASS_LABEL[i]\n",
    "#\n",
    "dic_re_label_bi = {}\n",
    "for key, value in dic_re_label.items():\n",
    "    # patient\n",
    "    if value=='H' or value=='K' or value=='A' or value=='C':\n",
    "        dic_re_label_bi[key] = 0\n",
    "    # healty control\n",
    "    else:\n",
    "        dic_re_label_bi[key] = 1\n",
    "\n",
    "# retrieve\n",
    "GRF_COP_AP_PRO_left = pd.read_csv(r'GRF_COP_AP_PRO_left.csv')\n",
    "# \n",
    "GRF_SUBJECT_ID = GRF_COP_AP_PRO_left.values[:,0]\n",
    "\n",
    "# label travel\n",
    "labels = []\n",
    "\n",
    "for i in range(len(GRF_SUBJECT_ID)):\n",
    "    labels.append(dic_re_label_bi[GRF_SUBJECT_ID[i]])\n",
    "\n",
    "print (len(labels))\n",
    "\n",
    "\n",
    "\n"
   ]
  },
  {
   "cell_type": "markdown",
   "id": "0eaa66d4-768d-4525-b834-a7d5a42e1dac",
   "metadata": {},
   "source": [
    "#### 特征文件提取之F"
   ]
  },
  {
   "cell_type": "code",
   "execution_count": 36,
   "id": "1d834e51-8fd2-4caa-bc08-c7f67d7acbed",
   "metadata": {},
   "outputs": [
    {
     "name": "stdout",
     "output_type": "stream",
     "text": [
      "(75732, 6, 101)\n"
     ]
    }
   ],
   "source": [
    "#1,2\n",
    "GRF_F_V_PRO_left = pd.read_csv(r'GRF_F_V_PRO_left.csv')\n",
    "features_1_F = GRF_F_V_PRO_left.values[:,3:].reshape(fullbatch, 1, nt)\n",
    "\n",
    "GRF_F_V_PRO_right = pd.read_csv(r'GRF_F_V_PRO_right.csv')\n",
    "features_2_F = GRF_F_V_PRO_right.values[:,3:].reshape(fullbatch, 1, nt)\n",
    "\n",
    "#3,4\n",
    "GRF_F_ML_PRO_left = pd.read_csv(r'GRF_F_ML_PRO_left.csv')\n",
    "features_3_F = GRF_F_ML_PRO_left.values[:,3:].reshape(fullbatch, 1, nt)\n",
    "\n",
    "GRF_F_ML_PRO_right = pd.read_csv(r'GRF_F_ML_PRO_right.csv')\n",
    "features_4_F = GRF_F_ML_PRO_right.values[:,3:].reshape(fullbatch, 1, nt)\n",
    "\n",
    "#5,6\n",
    "GRF_F_AP_PRO_left = pd.read_csv(r'GRF_F_AP_PRO_left.csv')\n",
    "features_5_F = GRF_F_AP_PRO_left.values[:,3:].reshape(fullbatch, 1, nt)\n",
    "\n",
    "GRF_F_AP_PRO_right = pd.read_csv(r'GRF_F_AP_PRO_right.csv')\n",
    "features_6_F = GRF_F_AP_PRO_right.values[:,3:].reshape(fullbatch, 1, nt)\n",
    "\n",
    "\n",
    "# concat\n",
    "\n",
    "GRF_F_features = np.concatenate((features_1_F, features_2_F, features_3_F, features_4_F, features_5_F, features_6_F),axis = 1)\n",
    "\n",
    "print (GRF_F_features.shape)\n"
   ]
  },
  {
   "cell_type": "markdown",
   "id": "1862b2f2-4b48-4272-9144-f5d09b3a13a8",
   "metadata": {},
   "source": [
    "#### 特征合并 "
   ]
  },
  {
   "cell_type": "code",
   "execution_count": 37,
   "id": "5afdb0d8-8638-44a9-bdb6-3028de694345",
   "metadata": {},
   "outputs": [
    {
     "name": "stdout",
     "output_type": "stream",
     "text": [
      "(75732, 10, 101)\n",
      "(75732,)\n"
     ]
    }
   ],
   "source": [
    "# concat the 1,2,3,4,5,6,7,8,9,10\n",
    "GaitRec_features = np.concatenate((GRF_COP_features, GRF_F_features), axis = 1)\n",
    "\n",
    "print (GaitRec_features.shape)\n",
    "\n",
    "GaitRec_labels = np.array(labels)\n",
    "\n",
    "print (GaitRec_labels.shape)"
   ]
  },
  {
   "cell_type": "markdown",
   "id": "e8726529-2402-498b-bd66-d6f872200987",
   "metadata": {},
   "source": [
    "#### 特征和标签各封装为Pkl并保存"
   ]
  },
  {
   "cell_type": "code",
   "execution_count": 39,
   "id": "3bbee0d8-8963-4425-9e74-412027f6252c",
   "metadata": {},
   "outputs": [],
   "source": [
    "import pickle\n",
    " \n",
    "with open('GaitRecf.pkl', 'wb') as f:\n",
    "    pickle.dump(GaitRec_features, f)\n",
    "\n",
    "with open('GaitRecl.pkl', 'wb') as f:\n",
    "    pickle.dump(GaitRec_labels, f)\n",
    " \n"
   ]
  },
  {
   "cell_type": "code",
   "execution_count": 42,
   "id": "22eaf593-4821-41cb-8dd0-9b348964ce7b",
   "metadata": {},
   "outputs": [],
   "source": [
    "import pickle\n",
    " \n",
    "f = open('GaitRecf.pkl', 'rb')\n",
    "obj = pickle.load(f)\n",
    "f.close()\n",
    "\n",
    "# print (obj.shape)\n",
    "# print (type(obj))\n",
    "# print (obj)"
   ]
  },
  {
   "cell_type": "code",
   "execution_count": null,
   "id": "9e4927cf-e74d-4a2e-aeb8-53fe23a9c037",
   "metadata": {},
   "outputs": [],
   "source": []
  }
 ],
 "metadata": {
  "kernelspec": {
   "display_name": "Python 3 (ipykernel)",
   "language": "python",
   "name": "python3"
  },
  "language_info": {
   "codemirror_mode": {
    "name": "ipython",
    "version": 3
   },
   "file_extension": ".py",
   "mimetype": "text/x-python",
   "name": "python",
   "nbconvert_exporter": "python",
   "pygments_lexer": "ipython3",
   "version": "3.9.12"
  }
 },
 "nbformat": 4,
 "nbformat_minor": 5
}
